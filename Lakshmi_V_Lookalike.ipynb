{
  "cells": [
    {
      "cell_type": "code",
      "source": [
        "from google.colab import drive\n",
        "drive.mount('/content/drive')"
      ],
      "metadata": {
        "colab": {
          "base_uri": "https://localhost:8080/"
        },
        "id": "GhchhH9LxERT",
        "outputId": "4cf176ab-c930-4f37-a427-7e5aa933b830"
      },
      "execution_count": 17,
      "outputs": [
        {
          "output_type": "stream",
          "name": "stdout",
          "text": [
            "Drive already mounted at /content/drive; to attempt to forcibly remount, call drive.mount(\"/content/drive\", force_remount=True).\n"
          ]
        }
      ]
    },
    {
      "cell_type": "code",
      "execution_count": 18,
      "metadata": {
        "colab": {
          "base_uri": "https://localhost:8080/"
        },
        "id": "Lconl-EDw2VA",
        "outputId": "848e8cc1-100d-41b2-ee25-c2450cde09c2"
      },
      "outputs": [
        {
          "output_type": "stream",
          "name": "stdout",
          "text": [
            "Lookalike recommendations with similarity scores have been saved to Lookalike.csv\n"
          ]
        }
      ],
      "source": [
        "import pandas as pd\n",
        "from sklearn.metrics.pairwise import cosine_similarity\n",
        "\n",
        "# Load datasets\n",
        "customers = pd.read_csv(\"/content/drive/MyDrive/Customers.csv\")\n",
        "products = pd.read_csv(\"/content/drive/MyDrive/Products.csv\")\n",
        "transactions = pd.read_csv(\"/content/drive/MyDrive/Transactions.csv\")\n",
        "\n",
        "# Merge datasets\n",
        "merged_data = transactions.merge(customers, on='CustomerID').merge(products, on='ProductID')\n",
        "\n",
        "# Create a pivot table for customer-product purchase quantity\n",
        "customer_product_matrix = pd.pivot_table(\n",
        "    merged_data,\n",
        "    values='Quantity',\n",
        "    index='CustomerID',\n",
        "    columns='ProductID',\n",
        "    fill_value=0\n",
        ")\n",
        "\n",
        "# Compute cosine similarity between customers\n",
        "similarity_matrix = cosine_similarity(customer_product_matrix)\n",
        "\n",
        "# Create a similarity DataFrame\n",
        "similarity_df = pd.DataFrame(\n",
        "    similarity_matrix,\n",
        "    index=customer_product_matrix.index,\n",
        "    columns=customer_product_matrix.index\n",
        ")\n",
        "\n",
        "# Generate Lookalike recommendations for the first 20 customers\n",
        "lookalikes = {}\n",
        "for customer_id in customers['CustomerID'][:20]:  # First 20 customers\n",
        "    if customer_id in similarity_df.index:\n",
        "        # Get the top 3 similar customers (excluding the customer themselves)\n",
        "        top_similar = similarity_df[customer_id].sort_values(ascending=False)[1:4]\n",
        "        # Create a list of tuples (customer_id, similarity_score)\n",
        "        lookalikes[customer_id] = list(zip(top_similar.index, top_similar.values))\n",
        "\n",
        "# Save the results in the specified format\n",
        "lookalike_df = pd.DataFrame.from_dict(lookalikes, orient='index')\n",
        "\n",
        "# Save to a CSV file, where each row is a customer with their lookalike list and similarity scores\n",
        "lookalike_df.to_csv(\"Lookalike.csv\", header=False, index_label=\"CustomerID\")\n",
        "\n",
        "print(\"Lookalike recommendations with similarity scores have been saved to Lookalike.csv\")\n"
      ]
    },
    {
      "cell_type": "code",
      "execution_count": 19,
      "metadata": {
        "colab": {
          "base_uri": "https://localhost:8080/"
        },
        "id": "2N2i73C5w2VE",
        "outputId": "90fe0d21-57f1-4903-83b5-14c101071b7a"
      },
      "outputs": [
        {
          "output_type": "stream",
          "name": "stdout",
          "text": [
            "  TransactionID CustomerID ProductID      TransactionDate  Quantity  \\\n",
            "0        T00001      C0199      P067  2024-08-25 12:38:23         1   \n",
            "1        T00112      C0146      P067  2024-05-27 22:23:54         1   \n",
            "2        T00166      C0127      P067  2024-04-25 07:38:55         1   \n",
            "3        T00272      C0087      P067  2024-03-26 22:55:37         2   \n",
            "4        T00363      C0070      P067  2024-03-21 15:10:10         3   \n",
            "\n",
            "   TotalValue  Price_x     CustomerName         Region  SignupDate  \\\n",
            "0      300.68   300.68   Andrea Jenkins         Europe  2022-12-03   \n",
            "1      300.68   300.68  Brittany Harvey           Asia  2024-09-04   \n",
            "2      300.68   300.68  Kathryn Stevens         Europe  2024-04-04   \n",
            "3      601.36   300.68  Travis Campbell  South America  2024-04-11   \n",
            "4      902.04   300.68    Timothy Perez         Europe  2022-03-15   \n",
            "\n",
            "                       ProductName     Category  Price_y  \n",
            "0  ComfortLiving Bluetooth Speaker  Electronics   300.68  \n",
            "1  ComfortLiving Bluetooth Speaker  Electronics   300.68  \n",
            "2  ComfortLiving Bluetooth Speaker  Electronics   300.68  \n",
            "3  ComfortLiving Bluetooth Speaker  Electronics   300.68  \n",
            "4  ComfortLiving Bluetooth Speaker  Electronics   300.68  \n"
          ]
        }
      ],
      "source": [
        "import pandas as pd\n",
        "\n",
        "# Load datasets\n",
        "customers = pd.read_csv(\"/content/drive/MyDrive/Customers.csv\")\n",
        "products = pd.read_csv(\"/content/drive/MyDrive/Products.csv\")\n",
        "transactions = pd.read_csv(\"/content/drive/MyDrive/Transactions.csv\")\n",
        "\n",
        "# Merge datasets to create a comprehensive view\n",
        "merged_data = transactions.merge(customers, on='CustomerID').merge(products, on='ProductID')\n",
        "\n",
        "# Display the first few rows of the merged data\n",
        "print(merged_data.head())"
      ]
    },
    {
      "cell_type": "code",
      "source": [
        "# Create customer profiles\n",
        "customer_profiles = merged_data.groupby('CustomerID').agg({\n",
        "    'TotalValue': 'sum',\n",
        "    'TransactionID': 'count',\n",
        "    'Quantity': 'sum',\n",
        "    'Region': 'first',  # Assuming Region is the same for a customer\n",
        "    'ProductID': lambda x: list(set(x))  # Unique products purchased\n",
        "}).reset_index()\n",
        "\n",
        "# Rename columns for clarity\n",
        "customer_profiles.rename(columns={\n",
        "    'TotalValue': 'TotalSpent',\n",
        "    'TransactionID': 'TransactionCount',\n",
        "    'Quantity': 'TotalQuantity',\n",
        "    'ProductID': 'UniqueProducts'\n",
        "}, inplace=True)\n",
        "\n",
        "# Display the customer profiles\n",
        "print(customer_profiles.head())"
      ],
      "metadata": {
        "colab": {
          "base_uri": "https://localhost:8080/"
        },
        "id": "_zemP3GAxnzR",
        "outputId": "cd40f2a9-b906-4e7e-b01a-161c276dbb6b"
      },
      "execution_count": 20,
      "outputs": [
        {
          "output_type": "stream",
          "name": "stdout",
          "text": [
            "  CustomerID  TotalSpent  TransactionCount  TotalQuantity         Region  \\\n",
            "0      C0001     3354.52                 5             12  South America   \n",
            "1      C0002     1862.74                 4             10           Asia   \n",
            "2      C0003     2725.38                 4             14  South America   \n",
            "3      C0004     5354.88                 8             23  South America   \n",
            "4      C0005     2034.24                 3              7           Asia   \n",
            "\n",
            "                                     UniqueProducts  \n",
            "0                    [P083, P029, P022, P096, P054]  \n",
            "1                          [P071, P019, P095, P004]  \n",
            "2                          [P035, P025, P002, P006]  \n",
            "3  [P049, P038, P025, P024, P077, P097, P053, P008]  \n",
            "4                                [P025, P039, P012]  \n"
          ]
        }
      ]
    },
    {
      "cell_type": "code",
      "source": [
        "from sklearn.metrics.pairwise import cosine_similarity\n",
        "from sklearn.preprocessing import StandardScaler\n",
        "\n",
        "# Select relevant features for similarity calculation\n",
        "features = customer_profiles[['TotalSpent', 'TransactionCount', 'TotalQuantity']]\n",
        "scaler = StandardScaler()\n",
        "scaled_features = scaler.fit_transform(features)\n",
        "\n",
        "# Calculate cosine similarity\n",
        "similarity_matrix = cosine_similarity(scaled_features)\n",
        "\n",
        "# Convert similarity matrix to DataFrame for easier handling\n",
        "similarity_df = pd.DataFrame(similarity_matrix, index=customer_profiles['CustomerID'], columns=customer_profiles['CustomerID'])"
      ],
      "metadata": {
        "id": "3IOmiIGBxsns"
      },
      "execution_count": 21,
      "outputs": []
    },
    {
      "cell_type": "code",
      "source": [
        "# Function to get lookalikes\n",
        "def get_lookalikes(customer_id, top_n=3):\n",
        "    # Get the similarity scores for the given customer\n",
        "    scores = similarity_df[customer_id].sort_values(ascending=False)\n",
        "\n",
        "    # Exclude the customer themselves and get the top N lookalikes\n",
        "    lookalikes = scores[scores.index != customer_id].head(top_n)\n",
        "\n",
        "    return lookalikes\n",
        "\n",
        "# Generate lookalikes for the first 20 customers\n",
        "lookalike_results = {}\n",
        "for customer_id in customer_profiles['CustomerID'][:20]:\n",
        "    lookalikes = get_lookalikes(customer_id)\n",
        "    lookalike_results[customer_id] = list(zip(lookalikes.index, lookalikes.values))\n",
        "\n",
        "# Convert results to DataFrame for saving\n",
        "lookalike_list = []\n",
        "for cust_id, lookalikes in lookalike_results.items():\n",
        "    for lookalike_id, score in lookalikes:\n",
        "        lookalike_list.append({'CustomerID': cust_id, 'LookalikeID': lookalike_id, 'SimilarityScore': score})\n",
        "\n",
        "lookalike_df = pd.DataFrame(lookalike_list)\n",
        "\n",
        "# Display the lookalike results\n",
        "print(lookalike_df)"
      ],
      "metadata": {
        "colab": {
          "base_uri": "https://localhost:8080/"
        },
        "id": "qO3-rNSMxunk",
        "outputId": "d606c6d4-b770-43ff-a46d-a6cae397fc83"
      },
      "execution_count": 22,
      "outputs": [
        {
          "output_type": "stream",
          "name": "stdout",
          "text": [
            "   CustomerID LookalikeID  SimilarityScore\n",
            "0       C0001       C0164         0.997598\n",
            "1       C0001       C0103         0.995394\n",
            "2       C0001       C0069         0.986073\n",
            "3       C0002       C0029         0.999754\n",
            "4       C0002       C0031         0.998986\n",
            "5       C0002       C0077         0.994313\n",
            "6       C0003       C0176         0.902950\n",
            "7       C0003       C0027         0.875121\n",
            "8       C0003       C0010         0.832965\n",
            "9       C0004       C0075         0.997789\n",
            "10      C0004       C0165         0.994442\n",
            "11      C0004       C0113         0.993976\n",
            "12      C0005       C0123         0.999781\n",
            "13      C0005       C0131         0.999628\n",
            "14      C0005       C0058         0.999561\n",
            "15      C0006       C0079         0.999882\n",
            "16      C0006       C0117         0.989525\n",
            "17      C0006       C0196         0.945252\n",
            "18      C0007       C0125         0.998032\n",
            "19      C0007       C0140         0.997960\n",
            "20      C0007       C0092         0.997904\n",
            "21      C0008       C0179         0.998199\n",
            "22      C0008       C0081         0.995029\n",
            "23      C0008       C0084         0.992931\n",
            "24      C0009       C0192         0.998778\n",
            "25      C0009       C0083         0.995718\n",
            "26      C0009       C0177         0.993210\n",
            "27      C0010       C0142         0.964637\n",
            "28      C0010       C0029         0.956520\n",
            "29      C0010       C0027         0.953511\n",
            "30      C0011       C0096         0.994564\n",
            "31      C0011       C0171         0.992644\n",
            "32      C0011       C0064         0.988357\n",
            "33      C0012       C0068         0.999608\n",
            "34      C0012       C0065         0.999174\n",
            "35      C0012       C0102         0.997989\n",
            "36      C0013       C0188         0.999347\n",
            "37      C0013       C0059         0.999158\n",
            "38      C0013       C0022         0.998903\n",
            "39      C0014       C0033         0.999637\n",
            "40      C0014       C0186         0.999474\n",
            "41      C0014       C0095         0.999454\n",
            "42      C0015       C0058         0.999989\n",
            "43      C0015       C0131         0.999966\n",
            "44      C0015       C0005         0.999528\n",
            "45      C0016       C0107         0.987248\n",
            "46      C0016       C0152         0.847102\n",
            "47      C0016       C0183         0.835327\n",
            "48      C0017       C0113         0.998550\n",
            "49      C0017       C0162         0.997669\n",
            "50      C0017       C0124         0.997148\n",
            "51      C0018       C0182         0.984697\n",
            "52      C0018       C0148         0.978885\n",
            "53      C0018       C0200         0.974026\n",
            "54      C0019       C0172         0.985930\n",
            "55      C0019       C0116         0.957682\n",
            "56      C0019       C0157         0.852801\n",
            "57      C0020       C0080         0.999894\n",
            "58      C0020       C0167         0.999342\n",
            "59      C0020       C0063         0.999326\n"
          ]
        }
      ]
    },
    {
      "cell_type": "code",
      "source": [
        "# Save the lookalike results to a CSV file\n",
        "lookalike_df.to_csv('Lookalike.csv', index=False)"
      ],
      "metadata": {
        "id": "7XJiT670xwlF"
      },
      "execution_count": 23,
      "outputs": []
    },
    {
      "cell_type": "code",
      "source": [
        "from google.colab import files\n",
        "\n",
        "# Download the CSV file\n",
        "files.download('Lookalike.csv')"
      ],
      "metadata": {
        "colab": {
          "base_uri": "https://localhost:8080/",
          "height": 17
        },
        "id": "5OiV4bPpykpU",
        "outputId": "dcb28a33-c4f4-4843-8a01-dbd5b63c7616"
      },
      "execution_count": 24,
      "outputs": [
        {
          "output_type": "display_data",
          "data": {
            "text/plain": [
              "<IPython.core.display.Javascript object>"
            ],
            "application/javascript": [
              "\n",
              "    async function download(id, filename, size) {\n",
              "      if (!google.colab.kernel.accessAllowed) {\n",
              "        return;\n",
              "      }\n",
              "      const div = document.createElement('div');\n",
              "      const label = document.createElement('label');\n",
              "      label.textContent = `Downloading \"${filename}\": `;\n",
              "      div.appendChild(label);\n",
              "      const progress = document.createElement('progress');\n",
              "      progress.max = size;\n",
              "      div.appendChild(progress);\n",
              "      document.body.appendChild(div);\n",
              "\n",
              "      const buffers = [];\n",
              "      let downloaded = 0;\n",
              "\n",
              "      const channel = await google.colab.kernel.comms.open(id);\n",
              "      // Send a message to notify the kernel that we're ready.\n",
              "      channel.send({})\n",
              "\n",
              "      for await (const message of channel.messages) {\n",
              "        // Send a message to notify the kernel that we're ready.\n",
              "        channel.send({})\n",
              "        if (message.buffers) {\n",
              "          for (const buffer of message.buffers) {\n",
              "            buffers.push(buffer);\n",
              "            downloaded += buffer.byteLength;\n",
              "            progress.value = downloaded;\n",
              "          }\n",
              "        }\n",
              "      }\n",
              "      const blob = new Blob(buffers, {type: 'application/binary'});\n",
              "      const a = document.createElement('a');\n",
              "      a.href = window.URL.createObjectURL(blob);\n",
              "      a.download = filename;\n",
              "      div.appendChild(a);\n",
              "      a.click();\n",
              "      div.remove();\n",
              "    }\n",
              "  "
            ]
          },
          "metadata": {}
        },
        {
          "output_type": "display_data",
          "data": {
            "text/plain": [
              "<IPython.core.display.Javascript object>"
            ],
            "application/javascript": [
              "download(\"download_d4c00bc1-67d2-4f1a-a0a9-6702b1139386\", \"Lookalike.csv\", 1893)"
            ]
          },
          "metadata": {}
        }
      ]
    }
  ],
  "metadata": {
    "kernelspec": {
      "display_name": "Python 3",
      "language": "python",
      "name": "python3"
    },
    "language_info": {
      "codemirror_mode": {
        "name": "ipython",
        "version": 3
      },
      "file_extension": ".py",
      "mimetype": "text/x-python",
      "name": "python",
      "nbconvert_exporter": "python",
      "pygments_lexer": "ipython3",
      "version": "3.8.3"
    },
    "colab": {
      "provenance": []
    }
  },
  "nbformat": 4,
  "nbformat_minor": 0
}