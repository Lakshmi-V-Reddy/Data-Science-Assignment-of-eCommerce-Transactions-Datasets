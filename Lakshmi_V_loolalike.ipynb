{
  "cells": [
    {
      "cell_type": "code",
      "source": [
        "from google.colab import drive\n",
        "drive.mount('/content/drive')"
      ],
      "metadata": {
        "colab": {
          "base_uri": "https://localhost:8080/"
        },
        "id": "GhchhH9LxERT",
        "outputId": "d21a62f1-290e-4bd5-bc0a-b875bdbd0c42"
      },
      "execution_count": 1,
      "outputs": [
        {
          "output_type": "stream",
          "name": "stdout",
          "text": [
            "Mounted at /content/drive\n"
          ]
        }
      ]
    },
    {
      "cell_type": "code",
      "execution_count": 2,
      "metadata": {
        "colab": {
          "base_uri": "https://localhost:8080/"
        },
        "id": "Lconl-EDw2VA",
        "outputId": "5d35fb9c-6c5d-48df-a1a0-7515bba7bb88"
      },
      "outputs": [
        {
          "output_type": "stream",
          "name": "stdout",
          "text": [
            "Lookalike recommendations with similarity scores have been saved to Lookalike.csv\n"
          ]
        }
      ],
      "source": [
        "import pandas as pd\n",
        "from sklearn.metrics.pairwise import cosine_similarity\n",
        "\n",
        "# Load datasets\n",
        "customers = pd.read_csv(\"/content/drive/MyDrive/Customers.csv\")\n",
        "products = pd.read_csv(\"/content/drive/MyDrive/Products.csv\")\n",
        "transactions = pd.read_csv(\"/content/drive/MyDrive/Transactions.csv\")\n",
        "\n",
        "# Merge datasets\n",
        "merged_data = transactions.merge(customers, on='CustomerID').merge(products, on='ProductID')\n",
        "\n",
        "# Create a pivot table for customer-product purchase quantity\n",
        "customer_product_matrix = pd.pivot_table(\n",
        "    merged_data,\n",
        "    values='Quantity',\n",
        "    index='CustomerID',\n",
        "    columns='ProductID',\n",
        "    fill_value=0\n",
        ")\n",
        "\n",
        "# Compute cosine similarity between customers\n",
        "similarity_matrix = cosine_similarity(customer_product_matrix)\n",
        "\n",
        "# Create a similarity DataFrame\n",
        "similarity_df = pd.DataFrame(\n",
        "    similarity_matrix,\n",
        "    index=customer_product_matrix.index,\n",
        "    columns=customer_product_matrix.index\n",
        ")\n",
        "\n",
        "# Generate Lookalike recommendations for the first 20 customers\n",
        "lookalikes = {}\n",
        "for customer_id in customers['CustomerID'][:20]:  # First 20 customers\n",
        "    if customer_id in similarity_df.index:\n",
        "        # Get the top 3 similar customers (excluding the customer themselves)\n",
        "        top_similar = similarity_df[customer_id].sort_values(ascending=False)[1:4]\n",
        "        # Create a list of tuples (customer_id, similarity_score)\n",
        "        lookalikes[customer_id] = list(zip(top_similar.index, top_similar.values))\n",
        "\n",
        "# Save the results in the specified format\n",
        "lookalike_df = pd.DataFrame.from_dict(lookalikes, orient='index')\n",
        "\n",
        "# Save to a CSV file, where each row is a customer with their lookalike list and similarity scores\n",
        "lookalike_df.to_csv(\"Lookalike.csv\", header=False, index_label=\"CustomerID\")\n",
        "\n",
        "print(\"Lookalike recommendations with similarity scores have been saved to Lookalike.csv\")\n"
      ]
    },
    {
      "cell_type": "code",
      "source": [
        "from google.colab import files\n",
        "\n",
        "# Download the CSV file\n",
        "files.download('Lookalike.csv')"
      ],
      "metadata": {
        "colab": {
          "base_uri": "https://localhost:8080/",
          "height": 17
        },
        "id": "5OiV4bPpykpU",
        "outputId": "c24e0ca1-04bb-4dfe-862a-55986d99d83c"
      },
      "execution_count": 3,
      "outputs": [
        {
          "output_type": "display_data",
          "data": {
            "text/plain": [
              "<IPython.core.display.Javascript object>"
            ],
            "application/javascript": [
              "\n",
              "    async function download(id, filename, size) {\n",
              "      if (!google.colab.kernel.accessAllowed) {\n",
              "        return;\n",
              "      }\n",
              "      const div = document.createElement('div');\n",
              "      const label = document.createElement('label');\n",
              "      label.textContent = `Downloading \"${filename}\": `;\n",
              "      div.appendChild(label);\n",
              "      const progress = document.createElement('progress');\n",
              "      progress.max = size;\n",
              "      div.appendChild(progress);\n",
              "      document.body.appendChild(div);\n",
              "\n",
              "      const buffers = [];\n",
              "      let downloaded = 0;\n",
              "\n",
              "      const channel = await google.colab.kernel.comms.open(id);\n",
              "      // Send a message to notify the kernel that we're ready.\n",
              "      channel.send({})\n",
              "\n",
              "      for await (const message of channel.messages) {\n",
              "        // Send a message to notify the kernel that we're ready.\n",
              "        channel.send({})\n",
              "        if (message.buffers) {\n",
              "          for (const buffer of message.buffers) {\n",
              "            buffers.push(buffer);\n",
              "            downloaded += buffer.byteLength;\n",
              "            progress.value = downloaded;\n",
              "          }\n",
              "        }\n",
              "      }\n",
              "      const blob = new Blob(buffers, {type: 'application/binary'});\n",
              "      const a = document.createElement('a');\n",
              "      a.href = window.URL.createObjectURL(blob);\n",
              "      a.download = filename;\n",
              "      div.appendChild(a);\n",
              "      a.click();\n",
              "      div.remove();\n",
              "    }\n",
              "  "
            ]
          },
          "metadata": {}
        },
        {
          "output_type": "display_data",
          "data": {
            "text/plain": [
              "<IPython.core.display.Javascript object>"
            ],
            "application/javascript": [
              "download(\"download_7c653f0b-6cee-43f8-b4a1-5b670bf15642\", \"Lookalike.csv\", 2051)"
            ]
          },
          "metadata": {}
        }
      ]
    },
    {
      "cell_type": "code",
      "source": [],
      "metadata": {
        "id": "Mn0fpxVgcprr"
      },
      "execution_count": null,
      "outputs": []
    }
  ],
  "metadata": {
    "kernelspec": {
      "display_name": "Python 3",
      "language": "python",
      "name": "python3"
    },
    "language_info": {
      "codemirror_mode": {
        "name": "ipython",
        "version": 3
      },
      "file_extension": ".py",
      "mimetype": "text/x-python",
      "name": "python",
      "nbconvert_exporter": "python",
      "pygments_lexer": "ipython3",
      "version": "3.8.3"
    },
    "colab": {
      "provenance": []
    }
  },
  "nbformat": 4,
  "nbformat_minor": 0
}